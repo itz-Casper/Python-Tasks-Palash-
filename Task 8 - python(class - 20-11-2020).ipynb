{
 "cells": [
  {
   "cell_type": "code",
   "execution_count": null,
   "metadata": {},
   "outputs": [],
   "source": [
    "\"\"\"Task 8 : python(class - 20/11/2020) \"\"\"\n",
    "# Make a table of all the In-built data structures and Point out the differences one by one\n",
    "\n",
    "\"\"\"\n",
    "Parameter\\Data Structures -      A) List             B) Dictionary          C) Tuples        D) Set\n",
    "\n",
    "1. Data Type -                   A) list             B) dict                C) tuple         D) set\n",
    " \n",
    "2. types of values - \n",
    "  A) can store different data types and duplicate values are allowed - \n",
    "  B) can store different data types but keys should be unique - \n",
    "  C) can store different data types and duplicacte values are allowed - \n",
    "  D) can store different data types but duplicate values are not allowed\n",
    "\n",
    "3. order of values - \n",
    "  A) order is retained -\n",
    "  B) order of values dosen't matter here - \n",
    "  C) order is retained - \n",
    "  D) order is not retained and gets sorted\n",
    "\n",
    "4. Mutability - \n",
    "  A) mutable : we can add remove or modify the elements in the list - \n",
    "  B) mutable : we can add remove or modify the elements in the dictionary - \n",
    "  C) immutable : once the tuple is created , we cannot add, remove or modify the elements - \n",
    "  D) partialy mutable : once the set is created, we can add or remove the elements from the set, but cannot modify the existing elements in the set\n",
    "\n",
    "5. Indexing and slicing ability -\n",
    "  A) Indexing and slicing is possible\n",
    "  B) Indexing and slicing is not possible\n",
    "  C) Indexing and slicing is possible\n",
    "  D) Indexing duplicate slicing gets possible\n",
    "\n",
    "6. inbuilt methods or attributes -\n",
    "  A) .append() , .insert() , .extend () , .remove() , .count() , .clear() , .sort() , reverse()\n",
    "  B) .fromkeys()  , .get() , .keys() , .popitem() , .update() , .values()\n",
    "  C) .count() , .index() , in , +\n",
    "  D) .add() , .update() , .remove() , .discard() , .clear() , .union() , .intersection() , .difference() , symmetric_difference()\n",
    "\n",
    "\"\"\""
   ]
  }
 ],
 "metadata": {
  "kernelspec": {
   "display_name": "Python 3",
   "language": "python",
   "name": "python3"
  },
  "language_info": {
   "codemirror_mode": {
    "name": "ipython",
    "version": 3
   },
   "file_extension": ".py",
   "mimetype": "text/x-python",
   "name": "python",
   "nbconvert_exporter": "python",
   "pygments_lexer": "ipython3",
   "version": "3.8.3"
  }
 },
 "nbformat": 4,
 "nbformat_minor": 4
}
