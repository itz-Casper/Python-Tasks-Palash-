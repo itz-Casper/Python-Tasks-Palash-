{
 "cells": [
  {
   "cell_type": "code",
   "execution_count": null,
   "metadata": {},
   "outputs": [],
   "source": [
    "\"\"\"Task 10 : python(class - 24/11/2020) \"\"\"\n",
    "# using while loop print numbers from 10 to 1\n",
    "# try using for loop to loop over tuples,sets and dictionaries"
   ]
  },
  {
   "cell_type": "code",
   "execution_count": 1,
   "metadata": {},
   "outputs": [
    {
     "name": "stdout",
     "output_type": "stream",
     "text": [
      "10\n",
      "9\n",
      "8\n",
      "7\n",
      "6\n",
      "5\n",
      "4\n",
      "3\n",
      "2\n",
      "1\n"
     ]
    }
   ],
   "source": [
    "# to print 10 to 1 using while loop\n",
    "c=10\n",
    "while (c>=1):\n",
    "    print (c)\n",
    "    c=c-1"
   ]
  },
  {
   "cell_type": "code",
   "execution_count": 3,
   "metadata": {},
   "outputs": [
    {
     "name": "stdout",
     "output_type": "stream",
     "text": [
      "5.5\n",
      "5.8\n",
      "5.11\n",
      "5.6\n"
     ]
    }
   ],
   "source": [
    "#by using for loops to get the values at a certain position inside nested lists\n",
    "list1 = [\"Pi\",5.5,\"black\",\"hero\",15]\n",
    "list2 = [\"jack\",5.8,\"brown\",\"nerd\",18]\n",
    "list3 = [\"MADHU\",5.11,\"blonde\",\"skinny\",12]\n",
    "list4 = [\"Rina\",5.6,\"asian\",\"pink\",20]\n",
    "\n",
    "listx = [list1,list2,list3,list4]\n",
    "\n",
    "for li in listx :\n",
    "    st=li[1] # to print values at 1st index\n",
    "    print (st)"
   ]
  },
  {
   "cell_type": "code",
   "execution_count": 4,
   "metadata": {},
   "outputs": [
    {
     "name": "stdout",
     "output_type": "stream",
     "text": [
      "black\n",
      "brown\n",
      "blonde\n",
      "asian\n"
     ]
    }
   ],
   "source": [
    "#by using for loops to get the values at a certain position inside nested tuples\n",
    "tup1 = (\"Pi\",5.5,\"black\",\"hero\",15)\n",
    "tup2 = (\"jack\",5.8,\"brown\",\"nerd\",18)\n",
    "tup3 = (\"MADHU\",5.11,\"blonde\",\"skinny\",12)\n",
    "tup4 = (\"Rina\",5.6,\"asian\",\"pink\",20)\n",
    "\n",
    "tupx = (tup1,tup2,tup3,tup4)\n",
    "\n",
    "for tup in tupx :\n",
    "    le=tup[2] # to print values at 2nd index\n",
    "    print (le)"
   ]
  },
  {
   "cell_type": "code",
   "execution_count": 5,
   "metadata": {},
   "outputs": [
    {
     "name": "stdout",
     "output_type": "stream",
     "text": [
      "**keys = \n",
      "Pi, black, 15, jack, brown, 18, MADHU, blonde, 12, Rina, rose, \n",
      "\n",
      "**values = \n",
      "5.5, colour, pass, 5.8, wood, adult, 5.11, hair, children, 5.6, pink, \n",
      "\n",
      "**items = \n",
      "('Pi', 5.5), ('black', 'colour'), (15, 'pass'), ('jack', 5.8), ('brown', 'wood'), (18, 'adult'), ('MADHU', 5.11), ('blonde', 'hair'), (12, 'children'), ('Rina', 5.6), ('rose', 'pink'), \n"
     ]
    }
   ],
   "source": [
    "#by using for loops to get the keys,values and items inside a dictionary\n",
    "\n",
    "dict1 = {\"Pi\":5.5,\n",
    "         \"black\":\"colour\",\n",
    "         15:\"pass\",\n",
    "         \"jack\":5.8,\n",
    "         \"brown\":\"wood\",\n",
    "         18:\"adult\",\n",
    "         \"MADHU\":5.11,\n",
    "         \"blonde\":\"hair\",\n",
    "         12:\"children\",\n",
    "         \"Rina\":5.6,\n",
    "         \"rose\":\"pink\"}\n",
    "print (\"**keys = \") \n",
    "for ke in dict1.keys() : # To get keys inside dictionary\n",
    "    print (ke,end = \", \")\n",
    "print (\"\")\n",
    "print (\"\")\n",
    "print (\"**values = \") # To get values inside dictionary\n",
    "for va in dict1.values():\n",
    "    print (va,end = \", \")\n",
    "print (\"\")\n",
    "print (\"\")\n",
    "print (\"**items = \") # To get items inside dictionary\n",
    "for it in dict1.items():\n",
    "    print (it, end = \", \")\n",
    "print (\"\")"
   ]
  },
  {
   "cell_type": "code",
   "execution_count": 6,
   "metadata": {},
   "outputs": [
    {
     "name": "stdout",
     "output_type": "stream",
     "text": [
      "5.5\n",
      "Pi\n",
      "black\n",
      "15\n",
      "hero\n"
     ]
    }
   ],
   "source": [
    "#by using for loops to get the values inside a set\n",
    "\n",
    "set1 = {\"Pi\",5.5,\"black\",\"hero\",15}\n",
    "for se in set1 :\n",
    "    print (se)"
   ]
  },
  {
   "cell_type": "code",
   "execution_count": null,
   "metadata": {},
   "outputs": [],
   "source": []
  }
 ],
 "metadata": {
  "kernelspec": {
   "display_name": "Python 3",
   "language": "python",
   "name": "python3"
  },
  "language_info": {
   "codemirror_mode": {
    "name": "ipython",
    "version": 3
   },
   "file_extension": ".py",
   "mimetype": "text/x-python",
   "name": "python",
   "nbconvert_exporter": "python",
   "pygments_lexer": "ipython3",
   "version": "3.8.3"
  }
 },
 "nbformat": 4,
 "nbformat_minor": 4
}
