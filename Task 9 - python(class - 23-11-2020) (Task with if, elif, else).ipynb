{
 "cells": [
  {
   "cell_type": "code",
   "execution_count": 6,
   "metadata": {},
   "outputs": [
    {
     "name": "stdout",
     "output_type": "stream",
     "text": [
      "Welcome to calculator\n",
      "Enter two numbers with a space in between : 110 25\n",
      "Press: 1 for addition(+), 2 for subtraction(-), 3 for multiplication(x), 4 for division(/) : 3\n",
      "The multiplication of 110 & 25 equals to : 2750\n"
     ]
    }
   ],
   "source": [
    "\"\"\"Task 9 : python(class - 23/11/2020) \"\"\"\n",
    "# Ask 2 numbers from users and store it in num1 and num2\n",
    "# Ask user to press 1 for addition,2 for subtraction,3 for multiplication and 4 for division\n",
    "# based on number given by user do the math operation\n",
    "\n",
    "print (\"Welcome to calculator\")\n",
    "num1 , num2 = input (\"Enter two numbers with a space in between : \").split()\n",
    "num1 = int (num1)\n",
    "num2 = int (num2)\n",
    "op1 = input (\"Press: 1 for addition(+), 2 for subtraction(-), 3 for multiplication(x), 4 for division(/) : \")\n",
    "op1 = int (op1)\n",
    "\n",
    "if op1 == 1:\n",
    "    print (\"The addition of {} & {} equals to :\".format(num1, num2) , num1+num2)\n",
    "elif op1 == 2:\n",
    "    print (\"The subtraction of {} from {} equals to :\".format(num1, num2) , num1-num2)\n",
    "elif op1 == 3:\n",
    "    print (\"The multiplication of {} & {} equals to :\".format(num1, num2) , num1*num2)\n",
    "elif op1 == 4:\n",
    "    print (\"The division of {} by {} equals to :\".format(num1, num2) , num1/num2) \n",
    "else:\n",
    "    print (\"wrong press, please run the program again\")"
   ]
  },
  {
   "cell_type": "code",
   "execution_count": null,
   "metadata": {},
   "outputs": [],
   "source": []
  }
 ],
 "metadata": {
  "kernelspec": {
   "display_name": "Python 3",
   "language": "python",
   "name": "python3"
  },
  "language_info": {
   "codemirror_mode": {
    "name": "ipython",
    "version": 3
   },
   "file_extension": ".py",
   "mimetype": "text/x-python",
   "name": "python",
   "nbconvert_exporter": "python",
   "pygments_lexer": "ipython3",
   "version": "3.8.3"
  }
 },
 "nbformat": 4,
 "nbformat_minor": 4
}
