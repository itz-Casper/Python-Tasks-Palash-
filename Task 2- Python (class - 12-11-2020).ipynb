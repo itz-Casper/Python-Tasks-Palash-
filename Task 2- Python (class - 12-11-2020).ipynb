{
 "cells": [
  {
   "cell_type": "code",
   "execution_count": 2,
   "metadata": {},
   "outputs": [
    {
     "name": "stdout",
     "output_type": "stream",
     "text": [
      "Enter a text or sentence : Welcome to Python\n",
      "Enter the word or letter you want to find : to\n",
      "the word \"to\" is in the 9th position\n"
     ]
    }
   ],
   "source": [
    "\"\"\"Task 1 : python(12/11/2020) \"\"\"\n",
    "#To Check If a word is present withing a given string\n",
    "# E.g. - To check if \"to\" is present in \"welcome to python\"\n",
    "\n",
    "text1 = input(\"Enter a text or sentence : \")\n",
    "search1 = input(\"Enter the word or letter you want to find : \")\n",
    "find1 = text1.find(search1)\n",
    "a = \"the word \\\"{}\\\" is in the {}th position\".format(search1,find1+1)\n",
    "b = \"the word {} is not found\".format(search1)\n",
    "print ( (b,a) [find1>=0])\n"
   ]
  },
  {
   "cell_type": "code",
   "execution_count": null,
   "metadata": {},
   "outputs": [],
   "source": []
  }
 ],
 "metadata": {
  "kernelspec": {
   "display_name": "Python 3",
   "language": "python",
   "name": "python3"
  },
  "language_info": {
   "codemirror_mode": {
    "name": "ipython",
    "version": 3
   },
   "file_extension": ".py",
   "mimetype": "text/x-python",
   "name": "python",
   "nbconvert_exporter": "python",
   "pygments_lexer": "ipython3",
   "version": "3.8.3"
  }
 },
 "nbformat": 4,
 "nbformat_minor": 4
}
