{
 "cells": [
  {
   "cell_type": "code",
   "execution_count": null,
   "metadata": {},
   "outputs": [],
   "source": [
    "\"\"\"Task 12 : python(class - 25/11/2020)\"\"\"\n",
    "# Go through some inbuilt functions - reduce(), zip(), enumerate()"
   ]
  },
  {
   "cell_type": "code",
   "execution_count": 6,
   "metadata": {},
   "outputs": [
    {
     "name": "stdout",
     "output_type": "stream",
     "text": [
      "Enter 10 numbers\n",
      "enter 1th number : 2\n",
      "enter 2th number : 4\n",
      "enter 3th number : 6\n",
      "enter 4th number : 8\n",
      "enter 5th number : 10\n",
      "enter 6th number : 12\n",
      "enter 7th number : 14\n",
      "enter 8th number : 16\n",
      "enter 9th number : 18\n",
      "enter 10th number : 20\n",
      "The Sum of 10 numbers =  110\n"
     ]
    }
   ],
   "source": [
    "# reduce() function -  is used to apply a particular function passed in its argument \n",
    "#                      to all of the list elements mentioned in the sequence passed along.\n",
    "\n",
    "import functools\n",
    "print (\"Enter 10 numbers\")\n",
    "listA = []\n",
    "for i in range (1,11,1):\n",
    "    inp = int (input (\"enter {}th number : \".format(i)))\n",
    "    listA.append(inp)\n",
    "result = functools.reduce(lambda a,b : a+b,listA)  # using reduce to compute sum of list \n",
    "print (\"The Sum of 10 numbers = \", result)"
   ]
  },
  {
   "cell_type": "code",
   "execution_count": 15,
   "metadata": {},
   "outputs": [
    {
     "name": "stdout",
     "output_type": "stream",
     "text": [
      "(('Ram', 'Jenny', 'Atif'), ('Charles', 'Christy', 'Baburao'), ('Mike', 'Monica', 'Shyam'))\n"
     ]
    }
   ],
   "source": [
    "# zip() function - The zip() function returns a zip object, which is an iterator of tuples where the first item in each passed \n",
    "#                  iterator is paired together, and then the second item in each passed iterator are paired together etc.\n",
    "\n",
    "a = (\"Ram\", \"Charles\", \"Mike\")\n",
    "b = (\"Jenny\", \"Christy\", \"Monica\", \"Vicky\")\n",
    "c = (\"Atif\",\"Baburao\",\"Shyam\",\"lala\")\n",
    "x = zip(a,b, c)\n",
    "print (tuple(x))   #If one tuple contains more items, these items are ignored"
   ]
  },
  {
   "cell_type": "code",
   "execution_count": 18,
   "metadata": {},
   "outputs": [
    {
     "name": "stdout",
     "output_type": "stream",
     "text": [
      "[(0, 'i'), (1, 'love'), (2, 'my'), (3, 'country'), (4, 'india')]\n",
      "[(10, 'p'), (11, 'r'), (12, 'i'), (13, 't'), (14, 'a'), (15, 'm')]\n"
     ]
    }
   ],
   "source": [
    "# enumerate() function - adds a counter to an iterable and returns it in a form of enumerate object.\n",
    "\n",
    "l1 = [\"i\",\"love\",\"my\",\"country\",\"india\"]\n",
    "n1 = \"pritam\"\n",
    "count1 = enumerate(l1)\n",
    "count2 = enumerate(n1,10) #changing the index of the initial iteration as 10\n",
    "print (list(count1))\n",
    "print (list(count2))"
   ]
  },
  {
   "cell_type": "code",
   "execution_count": null,
   "metadata": {},
   "outputs": [],
   "source": []
  }
 ],
 "metadata": {
  "kernelspec": {
   "display_name": "Python 3",
   "language": "python",
   "name": "python3"
  },
  "language_info": {
   "codemirror_mode": {
    "name": "ipython",
    "version": 3
   },
   "file_extension": ".py",
   "mimetype": "text/x-python",
   "name": "python",
   "nbconvert_exporter": "python",
   "pygments_lexer": "ipython3",
   "version": "3.8.3"
  }
 },
 "nbformat": 4,
 "nbformat_minor": 4
}
