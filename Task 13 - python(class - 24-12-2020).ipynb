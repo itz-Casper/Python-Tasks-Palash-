{
 "cells": [
  {
   "cell_type": "code",
   "execution_count": null,
   "metadata": {},
   "outputs": [],
   "source": [
    "\"\"\"Task 13 : python(class - 24/12/2020)\"\"\"\n",
    "\"\"\"\n",
    "1.\tWrite a function to remove duplicate values in a string.\n",
    "Ex: ‘Hello’ as input, the output should be ‘Helo’. ‘Good’ as input, the output should be ‘God’.\n",
    "\n",
    "2.\tWrite a class and method under it to perform squareRoot, cuberoot and Nth root of a number.\n",
    "Ex:- If I pass number 8 and 3, it should return cube root of 8. If I pass 16 and 4, it should retutn fourth root of 16.\n",
    "\n",
    "3.\tWrite a function which takes a list as input and returns list in a reverse order.\n",
    "Ex: [1,3,4,5,6] the output should be [6,5,4,3,1]\n",
    "\n",
    "4.\tWrite a class which takes three inputs and returns the smallest and the largest number.\n",
    "Ex: ClassName.smallest(1,2,3) should return 1. ClassName.largest(1,2,3) should return 3.\n",
    "\"\"\""
   ]
  },
  {
   "cell_type": "code",
   "execution_count": 1,
   "metadata": {},
   "outputs": [
    {
     "name": "stdout",
     "output_type": "stream",
     "text": [
      "Enter a sentence/word : yummy\n",
      "lets remove all the duplicate letters ;) -  yum\n"
     ]
    }
   ],
   "source": [
    "# no 1\n",
    "def rem_dupli():\n",
    "    a = input(\"Enter a sentence/word : \")\n",
    "    t = \"\"\n",
    "        if ( i in t):\n",
    "            pass \n",
    "        else:\n",
    "            t=t+i\n",
    "    print (\"lets remove all the duplicate letters ;) - \",t)\n",
    "\n",
    "rem_dupli()"
   ]
  },
  {
   "cell_type": "code",
   "execution_count": 3,
   "metadata": {},
   "outputs": [
    {
     "name": "stdout",
     "output_type": "stream",
     "text": [
      "enter a number whose root you want to find - 27\n",
      "enter the root you want to find - 3\n",
      "3.0 th root of 27.0 is : 3.0\n"
     ]
    }
   ],
   "source": [
    "# no 2\n",
    "class root:\n",
    "    def __init__(self,a,b):\n",
    "        self.a=a\n",
    "        self.b=b\n",
    "    def n_root(x):\n",
    "        nt = x.a**(1.0/float(x.b))\n",
    "        print (x.b,\"th root of\",x.a,\"is :\",nt)\n",
    "\n",
    "x = float(input(\"enter a number whose root you want to find - \"))\n",
    "y = float(input(\"enter the root you want to find - \"))\n",
    "num = root(x,y)\n",
    "num.n_root()"
   ]
  },
  {
   "cell_type": "code",
   "execution_count": 1,
   "metadata": {},
   "outputs": [
    {
     "name": "stdout",
     "output_type": "stream",
     "text": [
      "enter the number of items in the list -6\n",
      "enter the 1th item of the list - a\n",
      "enter the 2th item of the list - b\n",
      "enter the 3th item of the list - c\n",
      "enter the 4th item of the list - d\n",
      "enter the 5th item of the list - e\n",
      "enter the 6th item of the list - f\n",
      "The list in reverse order is : ['f', 'e', 'd', 'c', 'b', 'a']\n"
     ]
    }
   ],
   "source": [
    "# no 3\n",
    "num = int(input(\"enter the number of items in the list -\"))\n",
    "def reverse():\n",
    "    k=[]\n",
    "    for i in range (0,num):\n",
    "        a=input(\"enter the {}th item of the list - \".format(i+1))\n",
    "        k.append(a)\n",
    "    r = k[::-1]\n",
    "    print (\"The list in reverse order is :\", r)\n",
    "reverse()        "
   ]
  },
  {
   "cell_type": "code",
   "execution_count": 5,
   "metadata": {},
   "outputs": [
    {
     "name": "stdout",
     "output_type": "stream",
     "text": [
      "The largest of the three numbers 1, 4 and 5 is :  5\n",
      "The smallest of the three numbers 2, 3 and 0 is :  0\n"
     ]
    }
   ],
   "source": [
    "# no 4\n",
    "class extreme:\n",
    "    def __init__(self,a,b,c):\n",
    "        self.a=a\n",
    "        self.b=b\n",
    "        self.c=c\n",
    "    def largest(a,b,c):\n",
    "        list = [a,b,c]\n",
    "        large = list[0]\n",
    "        for i in list:\n",
    "            if i>large:\n",
    "                large=i\n",
    "        print (\"The largest of the three numbers {}, {} and {} is : \".format(a,b,c), large)\n",
    "    def smallest(a,b,c):\n",
    "        list = [a,b,c]\n",
    "        small = list[0]\n",
    "        for i in list:\n",
    "            if i<small:\n",
    "                small=i\n",
    "        print (\"The smallest of the three numbers {}, {} and {} is : \".format(a,b,c), small)\n",
    "\n",
    "\n",
    "extreme.largest(1,4,5)\n",
    "\n",
    "extreme.smallest(2,3,0)"
   ]
  },
  {
   "cell_type": "code",
   "execution_count": null,
   "metadata": {},
   "outputs": [],
   "source": []
  }
 ],
 "metadata": {
  "kernelspec": {
   "display_name": "Python 3",
   "language": "python",
   "name": "python3"
  },
  "language_info": {
   "codemirror_mode": {
    "name": "ipython",
    "version": 3
   },
   "file_extension": ".py",
   "mimetype": "text/x-python",
   "name": "python",
   "nbconvert_exporter": "python",
   "pygments_lexer": "ipython3",
   "version": "3.8.3"
  }
 },
 "nbformat": 4,
 "nbformat_minor": 4
}
