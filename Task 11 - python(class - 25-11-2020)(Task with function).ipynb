{
 "cells": [
  {
   "cell_type": "code",
   "execution_count": 2,
   "metadata": {},
   "outputs": [
    {
     "name": "stdout",
     "output_type": "stream",
     "text": [
      "Welcome to calculator\n",
      "You need to enter two numbers for calculation :\n",
      "Enter the 1st number = 20\n",
      "Enter the 2nd number = 10\n",
      "Press: 1 for addition(+), 2 for subtraction(-), 3 for multiplication(x), 4 for division(/) : 3\n",
      "The multiplication of 20 & 10 equals to : 200\n",
      "Do you want to run the program again??\n",
      " Type : 1 - to continue\n",
      " Type : 0 - to leave\n",
      "Enter your option : 1\n",
      "You need to enter two numbers for calculation :\n",
      "Enter the 1st number = 2000\n",
      "Enter the 2nd number = 40\n",
      "Press: 1 for addition(+), 2 for subtraction(-), 3 for multiplication(x), 4 for division(/) : 4\n",
      "The division of 2000 by 40 equals to : 50.0\n",
      "Do you want to run the program again??\n",
      " Type : 1 - to continue\n",
      " Type : 0 - to leave\n",
      "Enter your option : 0\n"
     ]
    }
   ],
   "source": [
    "\"\"\"Task 11 : python(class - 25/11/2020) \"\"\"\n",
    "# Ask 2 numbers from users and store it in num1 and num2\n",
    "# Ask user to press 1 for addition,2 for subtraction,3 for multiplication and 4 for division\n",
    "# create 4 seperate functions for each operation (i.e. addition,subtraction,multiplication and division)\n",
    "# based on number given by user,call that perticular function and print the output\n",
    "\n",
    "print (\"Welcome to calculator\")\n",
    "i=1\n",
    "while (i!=0):\n",
    "    print (\"You need to enter two numbers for calculation :\")\n",
    "    num1 = input(\"Enter the 1st number = \")\n",
    "    num2 = input(\"Enter the 2nd number = \")\n",
    "    num1 = int (num1)\n",
    "    num2 = int (num2)\n",
    "    op1 = input (\"Press: 1 for addition(+), 2 for subtraction(-), 3 for multiplication(x), 4 for division(/) : \")\n",
    "    op1 = int (op1)\n",
    "    def add():\n",
    "        addx= num1+num2\n",
    "        print (\"The addition of {} & {} equals to :\".format(num1, num2) , addx)\n",
    "    def sub():\n",
    "        subx= num1-num2\n",
    "        print (\"The subtraction of {} from {} equals to :\".format(num1, num2) , subx)\n",
    "    def mul():\n",
    "        mulx= num1*num2\n",
    "        print (\"The multiplication of {} & {} equals to :\".format(num1, num2) ,mulx)\n",
    "    def div():\n",
    "        divx= num1/num2\n",
    "        print (\"The division of {} by {} equals to :\".format(num1, num2) , divx)\n",
    "    if op1 == 1:\n",
    "        add()\n",
    "    elif op1 == 2:\n",
    "        sub()\n",
    "    elif op1 == 3:\n",
    "        mul()\n",
    "    elif op1 == 4:\n",
    "        div() \n",
    "    else:\n",
    "        print (\"wrong press, please run the program again\")\n",
    "    print(\"Do you want to run the program again??\")\n",
    "    print(\" Type : 1 - to continue\")\n",
    "    print(\" Type : 0 - to leave\")\n",
    "    i= input(\"Enter your option : \")\n",
    "    i= int(i)"
   ]
  },
  {
   "cell_type": "code",
   "execution_count": null,
   "metadata": {},
   "outputs": [],
   "source": []
  }
 ],
 "metadata": {
  "kernelspec": {
   "display_name": "Python 3",
   "language": "python",
   "name": "python3"
  },
  "language_info": {
   "codemirror_mode": {
    "name": "ipython",
    "version": 3
   },
   "file_extension": ".py",
   "mimetype": "text/x-python",
   "name": "python",
   "nbconvert_exporter": "python",
   "pygments_lexer": "ipython3",
   "version": "3.8.3"
  }
 },
 "nbformat": 4,
 "nbformat_minor": 4
}
