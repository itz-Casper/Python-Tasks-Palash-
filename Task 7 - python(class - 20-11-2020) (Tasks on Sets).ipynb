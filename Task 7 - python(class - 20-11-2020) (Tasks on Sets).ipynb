{
 "cells": [
  {
   "cell_type": "code",
   "execution_count": null,
   "metadata": {},
   "outputs": [],
   "source": [
    "\"\"\"Task 7 : python(class - 20/11/2020) (Tasks on Sets) \"\"\"\n",
    "# go through other inbuilt methods like 1) difference() 2) symmetric_difference()"
   ]
  },
  {
   "cell_type": "code",
   "execution_count": 1,
   "metadata": {},
   "outputs": [
    {
     "name": "stdout",
     "output_type": "stream",
     "text": [
      "{'minato', 'hokage', 'naruto'}\n"
     ]
    }
   ],
   "source": [
    "# .difference() function Returns a set that contains the items that only exist in set x, and not in set y.\n",
    "x= {\"naruto\", \"sasuke\", \"sakura\", \"minato\", \"hokage\", \"orochimaru\"}\n",
    "y= {\"sasuke\", \"sakura\", \"sarda\", \"hayuga\", \"orochimaru\", \"obito\"}\n",
    "z = x.difference(y)\n",
    "print (z)"
   ]
  },
  {
   "cell_type": "code",
   "execution_count": 2,
   "metadata": {},
   "outputs": [
    {
     "name": "stdout",
     "output_type": "stream",
     "text": [
      "{'minato', 'obito', 'hayuga', 'hokage', 'naruto', 'sarda'}\n"
     ]
    }
   ],
   "source": [
    "# .symmetric_difference() function returns the elements present in either of the two sets, but not common to both the sets.\n",
    "\n",
    "m = x.symmetric_difference(y)\n",
    "print (m)"
   ]
  },
  {
   "cell_type": "code",
   "execution_count": null,
   "metadata": {},
   "outputs": [],
   "source": []
  }
 ],
 "metadata": {
  "kernelspec": {
   "display_name": "Python 3",
   "language": "python",
   "name": "python3"
  },
  "language_info": {
   "codemirror_mode": {
    "name": "ipython",
    "version": 3
   },
   "file_extension": ".py",
   "mimetype": "text/x-python",
   "name": "python",
   "nbconvert_exporter": "python",
   "pygments_lexer": "ipython3",
   "version": "3.8.3"
  }
 },
 "nbformat": 4,
 "nbformat_minor": 4
}
