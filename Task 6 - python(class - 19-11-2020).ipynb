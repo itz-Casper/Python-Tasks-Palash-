{
 "cells": [
  {
   "cell_type": "code",
   "execution_count": 22,
   "metadata": {},
   "outputs": [
    {
     "name": "stdout",
     "output_type": "stream",
     "text": [
      "Here we have a sample tuple-  (1, 2, 6, 7, 'l', 'a', 'b', 4, 'hg')\n",
      "enter a text or number you want to add in the tuple with the position\n",
      "data :ram\n",
      "Position :1\n",
      "enter the position of the element inside the tuple you want to remove\n",
      "position :5\n",
      "The updated tuple is : (1, 'ram', 2, 6, 7, 'a', 'b', 4, 'hg')\n"
     ]
    }
   ],
   "source": [
    "\"\"\"Task 6 : python(class - 19/11/2020) \"\"\"\n",
    "#Add and remove the elements from a tuple.\n",
    "\n",
    "tup1 = (1,2,6,7,\"l\",\"a\",\"b\",4,\"hg\",) #Sample Tuple\n",
    "print (\"Here we have a sample tuple- \", tup1)\n",
    "list1 = list(tup1)\n",
    "print (\"enter a text or number you want to add in the tuple with the position\")\n",
    "a = input(\"data :\")\n",
    "b = input(\"Position :\")\n",
    "b = int(b)\n",
    "list1.insert(b,a)\n",
    "print (\"enter the position of the element inside the tuple you want to remove\")\n",
    "x = input (\"position :\")\n",
    "x = int(x)\n",
    "y=x-1\n",
    "(y,x)[x>=b]\n",
    "list1.pop(x)\n",
    "tup1 = tuple(list1)\n",
    "print (\"The updated tuple is :\", tup1)"
   ]
  },
  {
   "cell_type": "code",
   "execution_count": null,
   "metadata": {},
   "outputs": [],
   "source": []
  }
 ],
 "metadata": {
  "kernelspec": {
   "display_name": "Python 3",
   "language": "python",
   "name": "python3"
  },
  "language_info": {
   "codemirror_mode": {
    "name": "ipython",
    "version": 3
   },
   "file_extension": ".py",
   "mimetype": "text/x-python",
   "name": "python",
   "nbconvert_exporter": "python",
   "pygments_lexer": "ipython3",
   "version": "3.8.3"
  }
 },
 "nbformat": 4,
 "nbformat_minor": 4
}
