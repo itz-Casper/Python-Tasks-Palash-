{
 "cells": [
  {
   "cell_type": "code",
   "execution_count": 1,
   "metadata": {},
   "outputs": [
    {
     "name": "stdout",
     "output_type": "stream",
     "text": [
      "The program shows the student profile for the batch of April\n",
      "The present student data is of  Mike\n",
      "His/Her present Mark in Python is  80\n",
      "Please enter your name to register: Palash\n",
      "Enter your Python Marks: 80\n",
      "Enter your Maths Marks: 70\n",
      "Enter your ML Marks: 80\n",
      "Enter your DL Marks: 80\n",
      "Your student profile is ->  {'april_batch': {'student': {'name': 'Palash', 'marks': {'python': '80', 'maths': '70', 'ML': '80', 'DL': '80'}}}}\n"
     ]
    }
   ],
   "source": [
    "\"\"\"Task 2 : python(17/11/2020) \"\"\"\n",
    "#To do the following tasks fron the given dictionary\n",
    "#Given Dictionary\n",
    "dict1 = { \n",
    "   \"april_batch\":{ \n",
    "      \"student\":{ \n",
    "         \"name\":\"Mike\",\n",
    "         \"marks\":{ \n",
    "            \"python\":80,\n",
    "            \"maths\":70\n",
    "         }\n",
    "      }\n",
    "   }\n",
    "} \n",
    "\n",
    "print (\"The program shows the student profile for the batch of April\")\n",
    "\n",
    "#Access Mike (task1)\n",
    "print (\"The present student data is of \" , dict1[\"april_batch\"][\"student\"][\"name\"]) \n",
    "\n",
    "#Acesss 80 (task2)\n",
    "print (\"His/Her present Mark in Python is \", dict1[\"april_batch\"][\"student\"][\"marks\"][\"python\"]) \n",
    "\n",
    "#Change Mike to Your Name (task3)\n",
    "name1 = input(\"Please enter your name to register: \") \n",
    "dict1[\"april_batch\"][\"student\"][\"name\"]= name1\n",
    "\n",
    "python1 = input(\"Enter your Python Marks: \")\n",
    "maths1 = input(\"Enter your Maths Marks: \")\n",
    "ML1 = input(\"Enter your ML Marks: \")\n",
    "DL1 = input(\"Enter your DL Marks: \")\n",
    "dict1[\"april_batch\"][\"student\"][\"marks\"][\"python\"]=python1\n",
    "dict1[\"april_batch\"][\"student\"][\"marks\"][\"maths\"]=maths1\n",
    "\n",
    "#add ML and DL inside marks (task 4)\n",
    "dict1[\"april_batch\"][\"student\"][\"marks\"][\"ML\"]=ML1 \n",
    "dict1[\"april_batch\"][\"student\"][\"marks\"][\"DL\"]=DL1\n",
    "\n",
    "print (\"Your student profile is -> \", dict1)"
   ]
  },
  {
   "cell_type": "code",
   "execution_count": null,
   "metadata": {},
   "outputs": [],
   "source": []
  }
 ],
 "metadata": {
  "kernelspec": {
   "display_name": "Python 3",
   "language": "python",
   "name": "python3"
  },
  "language_info": {
   "codemirror_mode": {
    "name": "ipython",
    "version": 3
   },
   "file_extension": ".py",
   "mimetype": "text/x-python",
   "name": "python",
   "nbconvert_exporter": "python",
   "pygments_lexer": "ipython3",
   "version": "3.8.3"
  }
 },
 "nbformat": 4,
 "nbformat_minor": 4
}
