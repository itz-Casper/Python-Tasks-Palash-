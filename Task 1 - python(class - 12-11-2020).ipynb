{
 "cells": [
  {
   "cell_type": "code",
   "execution_count": 46,
   "metadata": {},
   "outputs": [
    {
     "data": {
      "text/plain": [
       "'Task 1 : python(class - 12/11/2020) '"
      ]
     },
     "execution_count": 46,
     "metadata": {},
     "output_type": "execute_result"
    }
   ],
   "source": [
    "\"\"\"Task 1 : python(class - 12/11/2020) \"\"\"\n",
    "# task 1) To go through some of the other in built functions"
   ]
  },
  {
   "cell_type": "code",
   "execution_count": 47,
   "metadata": {},
   "outputs": [
    {
     "name": "stdout",
     "output_type": "stream",
     "text": [
      "1.3333333333333333\n"
     ]
    }
   ],
   "source": [
    "# abs() function - returns the absolute value of a numeric value\n",
    "print ( abs(-4/3) )"
   ]
  },
  {
   "cell_type": "code",
   "execution_count": 48,
   "metadata": {},
   "outputs": [
    {
     "name": "stdout",
     "output_type": "stream",
     "text": [
      "-1\n"
     ]
    }
   ],
   "source": [
    "# round() function - returns the rounded value of a numeric value.\n",
    "print ( round(-4/3) )"
   ]
  },
  {
   "cell_type": "code",
   "execution_count": 49,
   "metadata": {},
   "outputs": [
    {
     "name": "stdout",
     "output_type": "stream",
     "text": [
      "2\n",
      "a\n"
     ]
    }
   ],
   "source": [
    "# min() function - returns the smallest item of a list or of the typed-in arguments.\n",
    "x= min(4,2,6,5,3)\n",
    "y= min(\"x\",\"b\",\"d\",\"a\",\"p\")\n",
    "print (x)\n",
    "print (y)"
   ]
  },
  {
   "cell_type": "code",
   "execution_count": 50,
   "metadata": {},
   "outputs": [
    {
     "name": "stdout",
     "output_type": "stream",
     "text": [
      "6\n",
      "x\n"
     ]
    }
   ],
   "source": [
    "# max() function - returns the largest item of a list or of the typed-in arguments.\n",
    "x= max(4,2,6,5,3)\n",
    "y= max(\"x\",\"b\",\"d\",\"a\",\"p\")\n",
    "print (x)\n",
    "print (y)"
   ]
  },
  {
   "cell_type": "code",
   "execution_count": 51,
   "metadata": {},
   "outputs": [
    {
     "name": "stdout",
     "output_type": "stream",
     "text": [
      "[1, 2, 3, 4, 5, 6, 7, 8, 9]\n"
     ]
    }
   ],
   "source": [
    "# .sort() function - It sorts a list into ascending order. The list can contain strings or numbers.\n",
    "d=[8,5,7,6,9,3,4,2,1,]\n",
    "d.sort()\n",
    "print (d)"
   ]
  },
  {
   "cell_type": "code",
   "execution_count": 58,
   "metadata": {},
   "outputs": [
    {
     "name": "stdout",
     "output_type": "stream",
     "text": [
      "[2, 3, 4, 5, 6, 7, 8]\n"
     ]
    }
   ],
   "source": [
    "# remove() function -removes a given object from the list.\n",
    "a = [1,2,3,4,5,6,7,8]\n",
    "a.remove(1)\n",
    "print(a)"
   ]
  },
  {
   "cell_type": "code",
   "execution_count": 52,
   "metadata": {},
   "outputs": [
    {
     "name": "stdout",
     "output_type": "stream",
     "text": [
      "11\n"
     ]
    }
   ],
   "source": [
    "# sum() function - It sums a list with all types of numeric values\n",
    "a=[5,6,]\n",
    "print (sum(a))"
   ]
  },
  {
   "cell_type": "code",
   "execution_count": 53,
   "metadata": {},
   "outputs": [
    {
     "name": "stdout",
     "output_type": "stream",
     "text": [
      "mug\n"
     ]
    }
   ],
   "source": [
    "# .strip() function - if the string has whitespaces at the beginning or at the end, it removes them.\n",
    "a=\" mug \"\n",
    "print (a.strip())"
   ]
  },
  {
   "cell_type": "code",
   "execution_count": 54,
   "metadata": {},
   "outputs": [
    {
     "name": "stdout",
     "output_type": "stream",
     "text": [
      " muh \n"
     ]
    }
   ],
   "source": [
    "# .replace('old','new') function -replaces a given string with another string.\n",
    "print (a.replace('g','h'))"
   ]
  },
  {
   "cell_type": "code",
   "execution_count": 55,
   "metadata": {},
   "outputs": [
    {
     "name": "stdout",
     "output_type": "stream",
     "text": [
      "['hello', 'world']\n"
     ]
    }
   ],
   "source": [
    "# .split(delimiter) function - splits your string into a list.\n",
    "a = \"hello world\"\n",
    "b = a.split(' ')\n",
    "print (b)"
   ]
  },
  {
   "cell_type": "code",
   "execution_count": 56,
   "metadata": {},
   "outputs": [
    {
     "name": "stdout",
     "output_type": "stream",
     "text": [
      "h e l l o   w o r l d\n"
     ]
    }
   ],
   "source": [
    "# 'delimiter'.join() function - It joins elements of a list into one string. \n",
    "b = ' '.join(a)\n",
    "print (b)"
   ]
  },
  {
   "cell_type": "code",
   "execution_count": 57,
   "metadata": {},
   "outputs": [
    {
     "name": "stdout",
     "output_type": "stream",
     "text": [
      "0b1100100\n"
     ]
    }
   ],
   "source": [
    "# bin() function - Convert an integer number to a binary string prefixed with “0b”.\n",
    "a= bin(100)\n",
    "print (a)"
   ]
  }
 ],
 "metadata": {
  "kernelspec": {
   "display_name": "Python 3",
   "language": "python",
   "name": "python3"
  },
  "language_info": {
   "codemirror_mode": {
    "name": "ipython",
    "version": 3
   },
   "file_extension": ".py",
   "mimetype": "text/x-python",
   "name": "python",
   "nbconvert_exporter": "python",
   "pygments_lexer": "ipython3",
   "version": "3.8.3"
  }
 },
 "nbformat": 4,
 "nbformat_minor": 4
}
